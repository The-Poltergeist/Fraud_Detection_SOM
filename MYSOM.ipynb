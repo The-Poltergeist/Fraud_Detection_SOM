{
 "cells": [
  {
   "cell_type": "code",
   "execution_count": 1,
   "id": "2679114d",
   "metadata": {},
   "outputs": [],
   "source": [
    "import numpy as np\n",
    "import pandas as pd\n",
    "import matplotlib.pyplot as plt"
   ]
  },
  {
   "cell_type": "code",
   "execution_count": 2,
   "id": "b524ce07",
   "metadata": {},
   "outputs": [
    {
     "name": "stdout",
     "output_type": "stream",
     "text": [
      "Collecting MiniSom\n",
      "  Downloading MiniSom-2.3.0.tar.gz (8.8 kB)\n",
      "Building wheels for collected packages: MiniSom\n",
      "  Building wheel for MiniSom (setup.py): started\n",
      "  Building wheel for MiniSom (setup.py): finished with status 'done'\n",
      "  Created wheel for MiniSom: filename=MiniSom-2.3.0-py3-none-any.whl size=9018 sha256=a18e645989aacbe172ef0a6ab62e94f04ed1e38e3338639cc4e0ef726af62004\n",
      "  Stored in directory: c:\\users\\enoch\\appdata\\local\\pip\\cache\\wheels\\7e\\47\\6d\\97ad48be13d8b0fc231b7df226a3d6645820c32559822a826c\n",
      "Successfully built MiniSom\n",
      "Installing collected packages: MiniSom\n",
      "Successfully installed MiniSom-2.3.0\n"
     ]
    }
   ],
   "source": [
    "!pip install MiniSom "
   ]
  },
  {
   "cell_type": "code",
   "execution_count": 3,
   "id": "ebe1ba67",
   "metadata": {},
   "outputs": [],
   "source": [
    "df = pd.read_csv('Credit_Card_Applications.csv')"
   ]
  },
  {
   "cell_type": "code",
   "execution_count": 4,
   "id": "4f3f2787",
   "metadata": {},
   "outputs": [
    {
     "data": {
      "text/html": [
       "<div>\n",
       "<style scoped>\n",
       "    .dataframe tbody tr th:only-of-type {\n",
       "        vertical-align: middle;\n",
       "    }\n",
       "\n",
       "    .dataframe tbody tr th {\n",
       "        vertical-align: top;\n",
       "    }\n",
       "\n",
       "    .dataframe thead th {\n",
       "        text-align: right;\n",
       "    }\n",
       "</style>\n",
       "<table border=\"1\" class=\"dataframe\">\n",
       "  <thead>\n",
       "    <tr style=\"text-align: right;\">\n",
       "      <th></th>\n",
       "      <th>CustomerID</th>\n",
       "      <th>A1</th>\n",
       "      <th>A2</th>\n",
       "      <th>A3</th>\n",
       "      <th>A4</th>\n",
       "      <th>A5</th>\n",
       "      <th>A6</th>\n",
       "      <th>A7</th>\n",
       "      <th>A8</th>\n",
       "      <th>A9</th>\n",
       "      <th>A10</th>\n",
       "      <th>A11</th>\n",
       "      <th>A12</th>\n",
       "      <th>A13</th>\n",
       "      <th>A14</th>\n",
       "      <th>Class</th>\n",
       "    </tr>\n",
       "  </thead>\n",
       "  <tbody>\n",
       "    <tr>\n",
       "      <th>0</th>\n",
       "      <td>15776156</td>\n",
       "      <td>1</td>\n",
       "      <td>22.08</td>\n",
       "      <td>11.46</td>\n",
       "      <td>2</td>\n",
       "      <td>4</td>\n",
       "      <td>4</td>\n",
       "      <td>1.585</td>\n",
       "      <td>0</td>\n",
       "      <td>0</td>\n",
       "      <td>0</td>\n",
       "      <td>1</td>\n",
       "      <td>2</td>\n",
       "      <td>100</td>\n",
       "      <td>1213</td>\n",
       "      <td>0</td>\n",
       "    </tr>\n",
       "    <tr>\n",
       "      <th>1</th>\n",
       "      <td>15739548</td>\n",
       "      <td>0</td>\n",
       "      <td>22.67</td>\n",
       "      <td>7.00</td>\n",
       "      <td>2</td>\n",
       "      <td>8</td>\n",
       "      <td>4</td>\n",
       "      <td>0.165</td>\n",
       "      <td>0</td>\n",
       "      <td>0</td>\n",
       "      <td>0</td>\n",
       "      <td>0</td>\n",
       "      <td>2</td>\n",
       "      <td>160</td>\n",
       "      <td>1</td>\n",
       "      <td>0</td>\n",
       "    </tr>\n",
       "    <tr>\n",
       "      <th>2</th>\n",
       "      <td>15662854</td>\n",
       "      <td>0</td>\n",
       "      <td>29.58</td>\n",
       "      <td>1.75</td>\n",
       "      <td>1</td>\n",
       "      <td>4</td>\n",
       "      <td>4</td>\n",
       "      <td>1.250</td>\n",
       "      <td>0</td>\n",
       "      <td>0</td>\n",
       "      <td>0</td>\n",
       "      <td>1</td>\n",
       "      <td>2</td>\n",
       "      <td>280</td>\n",
       "      <td>1</td>\n",
       "      <td>0</td>\n",
       "    </tr>\n",
       "    <tr>\n",
       "      <th>3</th>\n",
       "      <td>15687688</td>\n",
       "      <td>0</td>\n",
       "      <td>21.67</td>\n",
       "      <td>11.50</td>\n",
       "      <td>1</td>\n",
       "      <td>5</td>\n",
       "      <td>3</td>\n",
       "      <td>0.000</td>\n",
       "      <td>1</td>\n",
       "      <td>1</td>\n",
       "      <td>11</td>\n",
       "      <td>1</td>\n",
       "      <td>2</td>\n",
       "      <td>0</td>\n",
       "      <td>1</td>\n",
       "      <td>1</td>\n",
       "    </tr>\n",
       "    <tr>\n",
       "      <th>4</th>\n",
       "      <td>15715750</td>\n",
       "      <td>1</td>\n",
       "      <td>20.17</td>\n",
       "      <td>8.17</td>\n",
       "      <td>2</td>\n",
       "      <td>6</td>\n",
       "      <td>4</td>\n",
       "      <td>1.960</td>\n",
       "      <td>1</td>\n",
       "      <td>1</td>\n",
       "      <td>14</td>\n",
       "      <td>0</td>\n",
       "      <td>2</td>\n",
       "      <td>60</td>\n",
       "      <td>159</td>\n",
       "      <td>1</td>\n",
       "    </tr>\n",
       "  </tbody>\n",
       "</table>\n",
       "</div>"
      ],
      "text/plain": [
       "   CustomerID  A1     A2     A3  A4  A5  A6     A7  A8  A9  A10  A11  A12  \\\n",
       "0    15776156   1  22.08  11.46   2   4   4  1.585   0   0    0    1    2   \n",
       "1    15739548   0  22.67   7.00   2   8   4  0.165   0   0    0    0    2   \n",
       "2    15662854   0  29.58   1.75   1   4   4  1.250   0   0    0    1    2   \n",
       "3    15687688   0  21.67  11.50   1   5   3  0.000   1   1   11    1    2   \n",
       "4    15715750   1  20.17   8.17   2   6   4  1.960   1   1   14    0    2   \n",
       "\n",
       "   A13   A14  Class  \n",
       "0  100  1213      0  \n",
       "1  160     1      0  \n",
       "2  280     1      0  \n",
       "3    0     1      1  \n",
       "4   60   159      1  "
      ]
     },
     "execution_count": 4,
     "metadata": {},
     "output_type": "execute_result"
    }
   ],
   "source": [
    "df.head()\n"
   ]
  },
  {
   "cell_type": "code",
   "execution_count": 6,
   "id": "ea845717",
   "metadata": {},
   "outputs": [],
   "source": [
    "X=df.iloc[:,:-1].values\n",
    "y=df.iloc[:,-1].values"
   ]
  },
  {
   "cell_type": "markdown",
   "id": "0bdef5e6",
   "metadata": {},
   "source": [
    "### Feature Scaling"
   ]
  },
  {
   "cell_type": "code",
   "execution_count": 9,
   "id": "2a1eef13",
   "metadata": {},
   "outputs": [],
   "source": [
    "from sklearn.preprocessing import MinMaxScaler\n",
    "sc = MinMaxScaler(feature_range=(0,1))\n",
    "X = sc.fit_transform(X)"
   ]
  },
  {
   "cell_type": "markdown",
   "id": "3c35fb42",
   "metadata": {},
   "source": [
    "### Training SOM"
   ]
  },
  {
   "cell_type": "code",
   "execution_count": 24,
   "id": "a7582b47",
   "metadata": {},
   "outputs": [],
   "source": [
    "from minisom import MiniSom\n",
    "som = MiniSom(x=10, y=10, input_len= 15, sigma= 1.0, learning_rate = 0.5)\n",
    "som.random_weights_init(X)\n",
    "som.train_random(data = X, num_iteration = 100)"
   ]
  },
  {
   "cell_type": "markdown",
   "id": "a5986594",
   "metadata": {},
   "source": [
    "### Visualizing"
   ]
  },
  {
   "cell_type": "code",
   "execution_count": 25,
   "id": "2abc749f",
   "metadata": {},
   "outputs": [
    {
     "data": {
      "image/png": "[encoded data removed]",
      "text/plain": [
       "<Figure size 432x288 with 2 Axes>"
      ]
     },
     "metadata": {
      "needs_background": "light"
     },
     "output_type": "display_data"
    }
   ],
   "source": [
    "from pylab import bone, pcolor, colorbar, plot, show\n",
    "bone()\n",
    "pcolor(som.distance_map().T)\n",
    "colorbar()\n",
    "markers = ['o', 's']\n",
    "colors = ['r', 'g']\n",
    "for i, x in enumerate(X):\n",
    "    w = som.winner(x)\n",
    "    plot(w[0] + 0.5,\n",
    "         w[1] + 0.5,\n",
    "         markers[y[i]],\n",
    "         markeredgecolor = colors[y[i]],\n",
    "         markerfacecolor = 'None',\n",
    "         markersize = 10,\n",
    "         markeredgewidth = 2)\n",
    "show()"
   ]
  },
  {
   "cell_type": "markdown",
   "id": "95be9635",
   "metadata": {},
   "source": [
    "### Finding frauds\n"
   ]
  },
  {
   "cell_type": "code",
   "execution_count": 36,
   "id": "cf25cdcf",
   "metadata": {},
   "outputs": [
    {
     "name": "stdout",
     "output_type": "stream",
     "text": [
      "[[1.5571121e+07 0.0000000e+00 1.5830000e+01 5.8500000e-01 2.0000000e+00\n",
      "  8.0000000e+00 8.0000000e+00 1.5000000e+00 1.0000000e+00 1.0000000e+00\n",
      "  2.0000000e+00 0.0000000e+00 2.0000000e+00 1.0000000e+02 1.0000000e+00]\n",
      " [1.5660390e+07 0.0000000e+00 5.8670000e+01 4.4600000e+00 2.0000000e+00\n",
      "  1.1000000e+01 8.0000000e+00 3.0400000e+00 1.0000000e+00 1.0000000e+00\n",
      "  6.0000000e+00 0.0000000e+00 2.0000000e+00 4.3000000e+01 5.6100000e+02]\n",
      " [1.5577515e+07 0.0000000e+00 6.8670000e+01 1.5000000e+01 2.0000000e+00\n",
      "  1.0000000e+01 9.0000000e+00 0.0000000e+00 1.0000000e+00 1.0000000e+00\n",
      "  1.4000000e+01 0.0000000e+00 2.0000000e+00 0.0000000e+00 3.3770000e+03]\n",
      " [1.5657778e+07 0.0000000e+00 2.4750000e+01 3.0000000e+00 2.0000000e+00\n",
      "  1.1000000e+01 8.0000000e+00 1.8350000e+00 1.0000000e+00 1.0000000e+00\n",
      "  1.9000000e+01 0.0000000e+00 2.0000000e+00 0.0000000e+00 5.0100000e+02]\n",
      " [1.5652658e+07 0.0000000e+00 3.3080000e+01 4.6250000e+00 2.0000000e+00\n",
      "  1.1000000e+01 8.0000000e+00 1.6250000e+00 1.0000000e+00 1.0000000e+00\n",
      "  2.0000000e+00 0.0000000e+00 2.0000000e+00 0.0000000e+00 1.0000000e+00]\n",
      " [1.5624595e+07 0.0000000e+00 2.2420000e+01 1.1250000e+01 1.0000000e+00\n",
      "  1.4000000e+01 8.0000000e+00 7.5000000e-01 1.0000000e+00 1.0000000e+00\n",
      "  4.0000000e+00 0.0000000e+00 2.0000000e+00 0.0000000e+00 3.2200000e+02]\n",
      " [1.5688264e+07 0.0000000e+00 1.9670000e+01 2.1000000e-01 2.0000000e+00\n",
      "  1.1000000e+01 8.0000000e+00 2.9000000e-01 1.0000000e+00 1.0000000e+00\n",
      "  1.1000000e+01 0.0000000e+00 2.0000000e+00 8.0000000e+01 1.0000000e+02]\n",
      " [1.5720644e+07 0.0000000e+00 4.0330000e+01 7.5400000e+00 1.0000000e+00\n",
      "  1.1000000e+01 8.0000000e+00 8.0000000e+00 1.0000000e+00 1.0000000e+00\n",
      "  1.4000000e+01 0.0000000e+00 2.0000000e+00 0.0000000e+00 2.3010000e+03]\n",
      " [1.5746258e+07 0.0000000e+00 2.4080000e+01 5.0000000e-01 2.0000000e+00\n",
      "  1.1000000e+01 8.0000000e+00 1.2500000e+00 1.0000000e+00 1.0000000e+00\n",
      "  1.0000000e+00 0.0000000e+00 2.0000000e+00 0.0000000e+00 6.7900000e+02]\n",
      " [1.5644878e+07 0.0000000e+00 4.7250000e+01 7.5000000e-01 2.0000000e+00\n",
      "  1.1000000e+01 8.0000000e+00 2.7500000e+00 1.0000000e+00 1.0000000e+00\n",
      "  1.0000000e+00 0.0000000e+00 2.0000000e+00 3.3300000e+02 8.9300000e+02]\n",
      " [1.5671987e+07 0.0000000e+00 2.5000000e+01 1.2330000e+01 2.0000000e+00\n",
      "  1.3000000e+01 8.0000000e+00 3.5000000e+00 1.0000000e+00 1.0000000e+00\n",
      "  6.0000000e+00 0.0000000e+00 2.0000000e+00 4.0000000e+02 4.5900000e+02]\n",
      " [1.5778345e+07 0.0000000e+00 1.7830000e+01 1.1000000e+01 2.0000000e+00\n",
      "  1.4000000e+01 8.0000000e+00 1.0000000e+00 1.0000000e+00 1.0000000e+00\n",
      "  1.1000000e+01 0.0000000e+00 2.0000000e+00 0.0000000e+00 3.0010000e+03]\n",
      " [1.5700511e+07 0.0000000e+00 2.8500000e+01 3.0400000e+00 1.0000000e+00\n",
      "  1.4000000e+01 8.0000000e+00 2.5400000e+00 1.0000000e+00 1.0000000e+00\n",
      "  1.0000000e+00 0.0000000e+00 2.0000000e+00 7.0000000e+01 1.0000000e+00]\n",
      " [1.5776494e+07 0.0000000e+00 2.7420000e+01 1.4500000e+01 2.0000000e+00\n",
      "  1.4000000e+01 8.0000000e+00 3.0850000e+00 1.0000000e+00 1.0000000e+00\n",
      "  1.0000000e+00 0.0000000e+00 2.0000000e+00 1.2000000e+02 1.2000000e+01]\n",
      " [1.5744423e+07 1.0000000e+00 5.7830000e+01 7.0400000e+00 2.0000000e+00\n",
      "  7.0000000e+00 4.0000000e+00 1.4000000e+01 1.0000000e+00 1.0000000e+00\n",
      "  6.0000000e+00 1.0000000e+00 2.0000000e+00 3.6000000e+02 1.3330000e+03]\n",
      " [1.5814116e+07 1.0000000e+00 4.2080000e+01 1.0400000e+00 2.0000000e+00\n",
      "  9.0000000e+00 4.0000000e+00 5.0000000e+00 1.0000000e+00 1.0000000e+00\n",
      "  6.0000000e+00 1.0000000e+00 2.0000000e+00 5.0000000e+02 1.0001000e+04]\n",
      " [1.5785705e+07 1.0000000e+00 5.9500000e+01 2.7500000e+00 2.0000000e+00\n",
      "  9.0000000e+00 4.0000000e+00 1.7500000e+00 1.0000000e+00 1.0000000e+00\n",
      "  5.0000000e+00 1.0000000e+00 2.0000000e+00 6.0000000e+01 5.9000000e+01]]\n"
     ]
    }
   ],
   "source": [
    "mappings = som.win_map(X)\n",
    "frauds = np.concatenate((mappings[(1,8)], mappings[(2,8)]), axis = 0)\n",
    "frauds = sc.inverse_transform(frauds)"
   ]
  },
  {
   "cell_type": "code",
   "execution_count": 37,
   "id": "72fa68dc",
   "metadata": {},
   "outputs": [
    {
     "name": "stdout",
     "output_type": "stream",
     "text": [
      "Fraud Customer IDs\n",
      "15571121\n",
      "15660390\n",
      "15577515\n",
      "15657778\n",
      "15652658\n",
      "15624595\n",
      "15688264\n",
      "15720644\n",
      "15746258\n",
      "15644878\n",
      "15671987\n",
      "15778345\n",
      "15700511\n",
      "15776494\n",
      "15744423\n",
      "15814116\n",
      "15785705\n"
     ]
    }
   ],
   "source": [
    "print('Fraud Customer IDs')\n",
    "for i in frauds[:, 0]:\n",
    "  print(int(i))"
   ]
  },
  {
   "cell_type": "code",
   "execution_count": null,
   "id": "876a9c5f",
   "metadata": {},
   "outputs": [],
   "source": []
  }
 ],
 "metadata": {
  "kernelspec": {
   "display_name": "Python 3 (ipykernel)",
   "language": "python",
   "name": "python3"
  },
  "language_info": {
   "codemirror_mode": {
    "name": "ipython",
    "version": 3
   },
   "file_extension": ".py",
   "mimetype": "text/x-python",
   "name": "python",
   "nbconvert_exporter": "python",
   "pygments_lexer": "ipython3",
   "version": "3.9.7"
  }
 },
 "nbformat": 4,
 "nbformat_minor": 5
}
